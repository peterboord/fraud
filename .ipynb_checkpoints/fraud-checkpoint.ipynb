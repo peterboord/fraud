{
 "cells": [
  {
   "cell_type": "code",
   "execution_count": 1,
   "metadata": {
    "collapsed": false
   },
   "outputs": [],
   "source": [
    "#import packages\n",
    "%matplotlib inline\n",
    "import matplotlib\n",
    "import matplotlib.pyplot as plt\n",
    "import pandas as pd\n",
    "import numpy as np\n",
    "from bisect import bisect"
   ]
  },
  {
   "cell_type": "code",
   "execution_count": 46,
   "metadata": {
    "collapsed": true
   },
   "outputs": [],
   "source": [
    "# plot overlaid histogram of features in column for each class\n",
    "def df_hist(column):\n",
    "    class0 = df.loc[df['class'] == 0, [column]].values\n",
    "    class1 = df.loc[df['class'] == 1, [column]].values\n",
    "    nr_bins = 20\n",
    "    bin_edges = np.histogram(np.r_[class0, class1], bins=nr_bins)[1]\n",
    "    width = 0.5 * (bin_edges[1] - bin_edges[0])\n",
    "    hist0 = np.histogram(class0, bin_edges)[0]\n",
    "    hist1 = np.histogram(class1, bin_edges)[0]\n",
    "    plt.bar(bin_edges[0:nr_bins], hist0.astype(float)/sum(hist0), width, alpha=0.5, color='r', label='0')\n",
    "    plt.bar(bin_edges[0:nr_bins], hist1.astype(float)/sum(hist1), width, align='center', alpha=0.5, color='g', label='1')\n",
    "    plt.legend(loc='upper right')\n",
    "    plt.show()"
   ]
  },
  {
   "cell_type": "code",
   "execution_count": 2,
   "metadata": {
    "collapsed": false
   },
   "outputs": [
    {
     "name": "stdout",
     "output_type": "stream",
     "text": [
      "nr_datarows = 151112, nr_datacols = 11\n",
      "nr_ipdatarows = 138846\n",
      "It is True that ipdata is sorted\n",
      "It is True that user_id differs for every row\n",
      "nr_devices = 137956\n",
      "nr_ip = 143512\n",
      "nr_non_fraud = 136961\n",
      "nr_fraud = 14151\n",
      "P(fraud) = 0.09364577267192546\n",
      "purchase_value      int64\n",
      "sex                  int8\n",
      "age                 int64\n",
      "class               int64\n",
      "country             int16\n",
      "time              float64\n",
      "nr_users            int64\n",
      "dtype: object\n"
     ]
    },
    {
     "data": {
      "text/html": [
       "<div>\n",
       "<table border=\"1\" class=\"dataframe\">\n",
       "  <thead>\n",
       "    <tr style=\"text-align: right;\">\n",
       "      <th></th>\n",
       "      <th>purchase_value</th>\n",
       "      <th>sex</th>\n",
       "      <th>age</th>\n",
       "      <th>class</th>\n",
       "      <th>country</th>\n",
       "      <th>time</th>\n",
       "      <th>nr_users</th>\n",
       "    </tr>\n",
       "  </thead>\n",
       "  <tbody>\n",
       "    <tr>\n",
       "      <th>0</th>\n",
       "      <td>34</td>\n",
       "      <td>1</td>\n",
       "      <td>39</td>\n",
       "      <td>0</td>\n",
       "      <td>84</td>\n",
       "      <td>1251.856111</td>\n",
       "      <td>1</td>\n",
       "    </tr>\n",
       "    <tr>\n",
       "      <th>1</th>\n",
       "      <td>16</td>\n",
       "      <td>0</td>\n",
       "      <td>53</td>\n",
       "      <td>0</td>\n",
       "      <td>172</td>\n",
       "      <td>4.984444</td>\n",
       "      <td>1</td>\n",
       "    </tr>\n",
       "    <tr>\n",
       "      <th>2</th>\n",
       "      <td>15</td>\n",
       "      <td>1</td>\n",
       "      <td>53</td>\n",
       "      <td>1</td>\n",
       "      <td>172</td>\n",
       "      <td>0.000278</td>\n",
       "      <td>12</td>\n",
       "    </tr>\n",
       "    <tr>\n",
       "      <th>3</th>\n",
       "      <td>44</td>\n",
       "      <td>1</td>\n",
       "      <td>41</td>\n",
       "      <td>0</td>\n",
       "      <td>124</td>\n",
       "      <td>136.690278</td>\n",
       "      <td>1</td>\n",
       "    </tr>\n",
       "    <tr>\n",
       "      <th>4</th>\n",
       "      <td>39</td>\n",
       "      <td>1</td>\n",
       "      <td>45</td>\n",
       "      <td>0</td>\n",
       "      <td>172</td>\n",
       "      <td>1211.516944</td>\n",
       "      <td>1</td>\n",
       "    </tr>\n",
       "  </tbody>\n",
       "</table>\n",
       "</div>"
      ],
      "text/plain": [
       "   purchase_value  sex  age  class  country         time  nr_users\n",
       "0              34    1   39      0       84  1251.856111         1\n",
       "1              16    0   53      0      172     4.984444         1\n",
       "2              15    1   53      1      172     0.000278        12\n",
       "3              44    1   41      0      124   136.690278         1\n",
       "4              39    1   45      0      172  1211.516944         1"
      ]
     },
     "execution_count": 2,
     "metadata": {},
     "output_type": "execute_result"
    }
   ],
   "source": [
    "#import fraud data\n",
    "url = 'Fraud_Data.csv'\n",
    "df = pd.read_csv(url)\n",
    "nr_datarows, nr_datacols = df.shape\n",
    "print 'nr_datarows = %s, nr_datacols = %s' % (nr_datarows, nr_datacols)\n",
    "#import ip address to country data\n",
    "url = 'IpAddress_to_Country.csv'\n",
    "ipdata = pd.read_csv(url)\n",
    "ipdata = ipdata.as_matrix()\n",
    "nr_ipdatarows = ipdata.shape[0]\n",
    "print 'nr_ipdatarows = %s' % nr_ipdatarows\n",
    "ip_low = ipdata[:,0].astype(float)\n",
    "ip_hi = ipdata[:,1].astype(float)\n",
    "ip_low = np.r_[ip_low, ip_hi[-1]]\n",
    "ip_country = ipdata[:,2].astype(str)\n",
    "# check sorted\n",
    "print 'It is %r that ipdata is sorted' % all(ip_low[i] < ip_low[i+1] and ip_hi[i] < ip_hi[i+1] for i in range(nr_ipdatarows - 1))\n",
    "print 'It is %r that user_id differs for every row' % (len(df['user_id']) == len(set(df['user_id'])))\n",
    "df = df.drop('user_id', axis=1)\n",
    "set_devices = set(df['device_id'])\n",
    "print 'nr_devices = %r' % len(set_devices)\n",
    "set_ip = set(df['ip_address'])\n",
    "print 'nr_ip = %r' % len(set_ip)\n",
    "print 'nr_non_fraud = %r' % sum(df['class'] == 0)\n",
    "print 'nr_fraud = %r' % sum(df['class'])\n",
    "print 'P(fraud) = %r' % (float(sum(df['class']))/nr_datarows)\n",
    "\n",
    "# add country to table\n",
    "# bisect provides *major* speed improvement\n",
    "country = []\n",
    "for ip in df['ip_address']:\n",
    "    ip_row = bisect(ip_low, ip) - 1\n",
    "    if ip_row == nr_ipdatarows or ip > ip_hi[ip_row]:\n",
    "        country.append('None')\n",
    "    else:\n",
    "        country.append(ip_country[ip_row])\n",
    "df['country'] = country\n",
    "\n",
    "#create new features\n",
    "#time since signup\n",
    "df['time'] = (pd.to_datetime(df['purchase_time'])-pd.to_datetime(df['signup_time']))/np.timedelta64(1, 'h')\n",
    "df = df.drop('purchase_time', axis=1)\n",
    "df = df.drop('signup_time', axis=1)\n",
    "\n",
    "# nr_users per device\n",
    "nr_device_users = {}\n",
    "for index, row in df.iterrows():\n",
    "    dev_id = row['device_id']\n",
    "    if dev_id not in nr_device_users:\n",
    "        nr_device_users[dev_id] = 0\n",
    "    nr_device_users[dev_id] += 1\n",
    "nr_users = []\n",
    "for dev_id in df['device_id']:\n",
    "    nr_users.append(nr_device_users[dev_id])\n",
    "df['nr_users'] = nr_users\n",
    "nr_device_users.clear()\n",
    "\n",
    "# drop variables not used for classification\n",
    "df = df.drop('device_id', axis=1)\n",
    "df = df.drop('source', axis=1)\n",
    "df = df.drop('browser', axis=1)\n",
    "df = df.drop('ip_address', axis=1)\n",
    "\n",
    "# change categorical to integer\n",
    "df['sex'] = df['sex'].astype('category')\n",
    "df['sex'] = df['sex'].cat.codes\n",
    "df['country'] = df['country'].astype('category')\n",
    "df['country'] = df['country'].cat.codes\n",
    "\n",
    "print df.dtypes\n",
    "\n",
    "df.head()"
   ]
  },
  {
   "cell_type": "code",
   "execution_count": 3,
   "metadata": {
    "collapsed": false
   },
   "outputs": [
    {
     "data": {
      "text/html": [
       "<div>\n",
       "<table border=\"1\" class=\"dataframe\">\n",
       "  <thead>\n",
       "    <tr style=\"text-align: right;\">\n",
       "      <th></th>\n",
       "      <th>purchase_value</th>\n",
       "      <th>sex</th>\n",
       "      <th>age</th>\n",
       "      <th>country</th>\n",
       "      <th>time</th>\n",
       "      <th>nr_users</th>\n",
       "    </tr>\n",
       "    <tr>\n",
       "      <th>class</th>\n",
       "      <th></th>\n",
       "      <th></th>\n",
       "      <th></th>\n",
       "      <th></th>\n",
       "      <th></th>\n",
       "      <th></th>\n",
       "    </tr>\n",
       "  </thead>\n",
       "  <tbody>\n",
       "    <tr>\n",
       "      <th>0</th>\n",
       "      <td>36.929418</td>\n",
       "      <td>0.583078</td>\n",
       "      <td>33.122356</td>\n",
       "      <td>122.144800</td>\n",
       "      <td>1441.994052</td>\n",
       "      <td>1.120071</td>\n",
       "    </tr>\n",
       "    <tr>\n",
       "      <th>1</th>\n",
       "      <td>36.993004</td>\n",
       "      <td>0.596000</td>\n",
       "      <td>33.318281</td>\n",
       "      <td>122.557628</td>\n",
       "      <td>673.289542</td>\n",
       "      <td>7.145926</td>\n",
       "    </tr>\n",
       "  </tbody>\n",
       "</table>\n",
       "</div>"
      ],
      "text/plain": [
       "       purchase_value       sex        age     country         time  nr_users\n",
       "class                                                                        \n",
       "0           36.929418  0.583078  33.122356  122.144800  1441.994052  1.120071\n",
       "1           36.993004  0.596000  33.318281  122.557628   673.289542  7.145926"
      ]
     },
     "execution_count": 3,
     "metadata": {},
     "output_type": "execute_result"
    }
   ],
   "source": [
    "df.groupby('class').mean()"
   ]
  },
  {
   "cell_type": "markdown",
   "metadata": {},
   "source": [
    "# 'time' and 'nr_users' look like good features to discrimnate fraud vs non-fraud"
   ]
  },
  {
   "cell_type": "code",
   "execution_count": 47,
   "metadata": {
    "collapsed": false
   },
   "outputs": [
    {
     "data": {
      "image/png": "[encoded data removed]",
      "text/plain": [
       "<matplotlib.figure.Figure at 0x7f03442ba150>"
      ]
     },
     "metadata": {},
     "output_type": "display_data"
    }
   ],
   "source": [
    "df_hist('nr_users')"
   ]
  },
  {
   "cell_type": "code",
   "execution_count": 48,
   "metadata": {
    "collapsed": false
   },
   "outputs": [
    {
     "data": {
      "image/png": "[encoded data removed]",
      "text/plain": [
       "<matplotlib.figure.Figure at 0x7f0343f5ad90>"
      ]
     },
     "metadata": {},
     "output_type": "display_data"
    }
   ],
   "source": [
    "df_hist('time')"
   ]
  }
 ],
 "metadata": {
  "anaconda-cloud": {},
  "kernelspec": {
   "display_name": "Python [conda root]",
   "language": "python",
   "name": "conda-root-py"
  },
  "language_info": {
   "codemirror_mode": {
    "name": "ipython",
    "version": 2
   },
   "file_extension": ".py",
   "mimetype": "text/x-python",
   "name": "python",
   "nbconvert_exporter": "python",
   "pygments_lexer": "ipython2",
   "version": "2.7.12"
  },
  "toc": {
   "colors": {
    "hover_highlight": "#DAA520",
    "running_highlight": "#FF0000",
    "selected_highlight": "#FFD700"
   },
   "moveMenuLeft": true,
   "nav_menu": {
    "height": "30px",
    "width": "252px"
   },
   "navigate_menu": true,
   "number_sections": true,
   "sideBar": true,
   "threshold": 4,
   "toc_cell": false,
   "toc_section_display": "block",
   "toc_window_display": false
  }
 },
 "nbformat": 4,
 "nbformat_minor": 1
}

{
 "cells": [
  {
   "cell_type": "code",
   "execution_count": 69,
   "metadata": {
    "collapsed": false
   },
   "outputs": [],
   "source": [
    "#import packages\n",
    "%matplotlib inline\n",
    "import matplotlib\n",
    "import matplotlib.pyplot as plt\n",
    "import pandas as pd\n",
    "import numpy as np\n",
    "from bisect import bisect\n",
    "from sklearn.neighbors import KernelDensity\n",
    "from sklearn.metrics import roc_curve, roc_auc_score"
   ]
  },
  {
   "cell_type": "code",
   "execution_count": 2,
   "metadata": {
    "collapsed": true
   },
   "outputs": [],
   "source": [
    "# plot overlaid histogram of features in column for each class\n",
    "def df_hist(class0, class1, column):\n",
    "    nr_bins = 20\n",
    "    bin_edges = np.histogram(np.r_[class0[column].values, class1[column].values], bins=nr_bins)[1]\n",
    "    width = 0.5 * (bin_edges[1] - bin_edges[0])\n",
    "    hist0 = np.histogram(class0[column].values, bin_edges)[0]\n",
    "    hist1 = np.histogram(class1[column].values, bin_edges)[0]\n",
    "    plt.bar(bin_edges[0:nr_bins], hist0.astype(float)/sum(hist0), width, alpha=0.5, color='r', label='0')\n",
    "    plt.bar(bin_edges[0:nr_bins], hist1.astype(float)/sum(hist1), width, align='center', alpha=0.5, color='g', label='1')\n",
    "    plt.legend(loc='upper right')\n",
    "    plt.show()\n",
    "\n",
    "# split into train / test sets\n",
    "def train_test_split(classX):\n",
    "    np.random.seed([0])\n",
    "    train_size = 0.7\n",
    "    train_idx = int(train_size * len(classX))\n",
    "    perm_idx = np.random.permutation(len(classX))\n",
    "    trainX = classX.iloc[perm_idx[0:train_idx]]\n",
    "    testX = classX.iloc[perm_idx[train_idx:]]\n",
    "    return (trainX, testX)"
   ]
  },
  {
   "cell_type": "code",
   "execution_count": 40,
   "metadata": {
    "collapsed": false
   },
   "outputs": [
    {
     "name": "stdout",
     "output_type": "stream",
     "text": [
      "nr_datarows = 151112, nr_datacols = 11\n",
      "nr_ipdatarows = 138846\n",
      "It is True that ipdata is sorted\n",
      "It is True that user_id differs for every row\n",
      "nr_devices = 137956\n",
      "nr_ip = 143512\n",
      "nr_non_fraud = 136961\n",
      "nr_fraud = 14151\n",
      "P(fraud) = 0.09364577267192546\n",
      "purchase_value      int64\n",
      "sex                  int8\n",
      "age                 int64\n",
      "class               int64\n",
      "country             int16\n",
      "time              float64\n",
      "nr_users            int64\n",
      "dtype: object\n"
     ]
    },
    {
     "data": {
      "text/html": [
       "<div>\n",
       "<table border=\"1\" class=\"dataframe\">\n",
       "  <thead>\n",
       "    <tr style=\"text-align: right;\">\n",
       "      <th></th>\n",
       "      <th>purchase_value</th>\n",
       "      <th>sex</th>\n",
       "      <th>age</th>\n",
       "      <th>class</th>\n",
       "      <th>country</th>\n",
       "      <th>time</th>\n",
       "      <th>nr_users</th>\n",
       "    </tr>\n",
       "  </thead>\n",
       "  <tbody>\n",
       "    <tr>\n",
       "      <th>0</th>\n",
       "      <td>34</td>\n",
       "      <td>1</td>\n",
       "      <td>39</td>\n",
       "      <td>0</td>\n",
       "      <td>84</td>\n",
       "      <td>1251.856111</td>\n",
       "      <td>1</td>\n",
       "    </tr>\n",
       "    <tr>\n",
       "      <th>1</th>\n",
       "      <td>16</td>\n",
       "      <td>0</td>\n",
       "      <td>53</td>\n",
       "      <td>0</td>\n",
       "      <td>172</td>\n",
       "      <td>4.984444</td>\n",
       "      <td>1</td>\n",
       "    </tr>\n",
       "    <tr>\n",
       "      <th>2</th>\n",
       "      <td>15</td>\n",
       "      <td>1</td>\n",
       "      <td>53</td>\n",
       "      <td>1</td>\n",
       "      <td>172</td>\n",
       "      <td>0.000278</td>\n",
       "      <td>12</td>\n",
       "    </tr>\n",
       "    <tr>\n",
       "      <th>3</th>\n",
       "      <td>44</td>\n",
       "      <td>1</td>\n",
       "      <td>41</td>\n",
       "      <td>0</td>\n",
       "      <td>124</td>\n",
       "      <td>136.690278</td>\n",
       "      <td>1</td>\n",
       "    </tr>\n",
       "    <tr>\n",
       "      <th>4</th>\n",
       "      <td>39</td>\n",
       "      <td>1</td>\n",
       "      <td>45</td>\n",
       "      <td>0</td>\n",
       "      <td>172</td>\n",
       "      <td>1211.516944</td>\n",
       "      <td>1</td>\n",
       "    </tr>\n",
       "  </tbody>\n",
       "</table>\n",
       "</div>"
      ],
      "text/plain": [
       "   purchase_value  sex  age  class  country         time  nr_users\n",
       "0              34    1   39      0       84  1251.856111         1\n",
       "1              16    0   53      0      172     4.984444         1\n",
       "2              15    1   53      1      172     0.000278        12\n",
       "3              44    1   41      0      124   136.690278         1\n",
       "4              39    1   45      0      172  1211.516944         1"
      ]
     },
     "execution_count": 40,
     "metadata": {},
     "output_type": "execute_result"
    }
   ],
   "source": [
    "#import fraud data\n",
    "url = 'Fraud_Data.csv'\n",
    "df = pd.read_csv(url)\n",
    "nr_datarows, nr_datacols = df.shape\n",
    "print 'nr_datarows = %s, nr_datacols = %s' % (nr_datarows, nr_datacols)\n",
    "#import ip address to country data\n",
    "url = 'IpAddress_to_Country.csv'\n",
    "ipdata = pd.read_csv(url)\n",
    "ipdata = ipdata.as_matrix()\n",
    "nr_ipdatarows = ipdata.shape[0]\n",
    "print 'nr_ipdatarows = %s' % nr_ipdatarows\n",
    "ip_low = ipdata[:,0].astype(float)\n",
    "ip_hi = ipdata[:,1].astype(float)\n",
    "ip_low = np.r_[ip_low, ip_hi[-1]]\n",
    "ip_country = ipdata[:,2].astype(str)\n",
    "# check sorted\n",
    "print 'It is %r that ipdata is sorted' % all(ip_low[i] < ip_low[i+1] and ip_hi[i] < ip_hi[i+1] for i in range(nr_ipdatarows - 1))\n",
    "print 'It is %r that user_id differs for every row' % (len(df['user_id']) == len(set(df['user_id'])))\n",
    "df = df.drop('user_id', axis=1)\n",
    "set_devices = set(df['device_id'])\n",
    "print 'nr_devices = %r' % len(set_devices)\n",
    "set_ip = set(df['ip_address'])\n",
    "print 'nr_ip = %r' % len(set_ip)\n",
    "print 'nr_non_fraud = %r' % sum(df['class'] == 0)\n",
    "print 'nr_fraud = %r' % sum(df['class'])\n",
    "p_fraud = float(sum(df['class']))/nr_datarows\n",
    "print 'P(fraud) = %r' % p_fraud\n",
    "\n",
    "# add country to table\n",
    "# bisect provides *major* speed improvement\n",
    "country = []\n",
    "for ip in df['ip_address']:\n",
    "    ip_row = bisect(ip_low, ip) - 1\n",
    "    if ip_row == nr_ipdatarows or ip > ip_hi[ip_row]:\n",
    "        country.append('None')\n",
    "    else:\n",
    "        country.append(ip_country[ip_row])\n",
    "df['country'] = country\n",
    "\n",
    "#create new features\n",
    "#time since signup\n",
    "df['time'] = (pd.to_datetime(df['purchase_time'])-pd.to_datetime(df['signup_time']))/np.timedelta64(1, 'h')\n",
    "df = df.drop('purchase_time', axis=1)\n",
    "df = df.drop('signup_time', axis=1)\n",
    "\n",
    "# nr_users per device\n",
    "nr_device_users = {}\n",
    "for index, row in df.iterrows():\n",
    "    dev_id = row['device_id']\n",
    "    if dev_id not in nr_device_users:\n",
    "        nr_device_users[dev_id] = 0\n",
    "    nr_device_users[dev_id] += 1\n",
    "nr_users = []\n",
    "for dev_id in df['device_id']:\n",
    "    nr_users.append(nr_device_users[dev_id])\n",
    "df['nr_users'] = nr_users\n",
    "nr_device_users.clear()\n",
    "\n",
    "# drop variables not used for classification\n",
    "df = df.drop('device_id', axis=1)\n",
    "df = df.drop('source', axis=1)\n",
    "df = df.drop('browser', axis=1)\n",
    "df = df.drop('ip_address', axis=1)\n",
    "\n",
    "# change categorical to integer\n",
    "df['sex'] = df['sex'].astype('category')\n",
    "df['sex'] = df['sex'].cat.codes\n",
    "df['country'] = df['country'].astype('category')\n",
    "df['country'] = df['country'].cat.codes\n",
    "\n",
    "print df.dtypes\n",
    "\n",
    "df.head()"
   ]
  },
  {
   "cell_type": "code",
   "execution_count": 4,
   "metadata": {
    "collapsed": false
   },
   "outputs": [
    {
     "data": {
      "text/html": [
       "<div>\n",
       "<table border=\"1\" class=\"dataframe\">\n",
       "  <thead>\n",
       "    <tr style=\"text-align: right;\">\n",
       "      <th></th>\n",
       "      <th>purchase_value</th>\n",
       "      <th>sex</th>\n",
       "      <th>age</th>\n",
       "      <th>country</th>\n",
       "      <th>time</th>\n",
       "      <th>nr_users</th>\n",
       "    </tr>\n",
       "    <tr>\n",
       "      <th>class</th>\n",
       "      <th></th>\n",
       "      <th></th>\n",
       "      <th></th>\n",
       "      <th></th>\n",
       "      <th></th>\n",
       "      <th></th>\n",
       "    </tr>\n",
       "  </thead>\n",
       "  <tbody>\n",
       "    <tr>\n",
       "      <th>0</th>\n",
       "      <td>36.929418</td>\n",
       "      <td>0.583078</td>\n",
       "      <td>33.122356</td>\n",
       "      <td>122.144800</td>\n",
       "      <td>1441.994052</td>\n",
       "      <td>1.120071</td>\n",
       "    </tr>\n",
       "    <tr>\n",
       "      <th>1</th>\n",
       "      <td>36.993004</td>\n",
       "      <td>0.596000</td>\n",
       "      <td>33.318281</td>\n",
       "      <td>122.557628</td>\n",
       "      <td>673.289542</td>\n",
       "      <td>7.145926</td>\n",
       "    </tr>\n",
       "  </tbody>\n",
       "</table>\n",
       "</div>"
      ],
      "text/plain": [
       "       purchase_value       sex        age     country         time  nr_users\n",
       "class                                                                        \n",
       "0           36.929418  0.583078  33.122356  122.144800  1441.994052  1.120071\n",
       "1           36.993004  0.596000  33.318281  122.557628   673.289542  7.145926"
      ]
     },
     "execution_count": 4,
     "metadata": {},
     "output_type": "execute_result"
    }
   ],
   "source": [
    "df.groupby('class').mean()"
   ]
  },
  {
   "cell_type": "code",
   "execution_count": 5,
   "metadata": {
    "collapsed": false
   },
   "outputs": [
    {
     "data": {
      "text/html": [
       "<div>\n",
       "<table border=\"1\" class=\"dataframe\">\n",
       "  <thead>\n",
       "    <tr style=\"text-align: right;\">\n",
       "      <th></th>\n",
       "      <th>purchase_value</th>\n",
       "      <th>sex</th>\n",
       "      <th>age</th>\n",
       "      <th>class</th>\n",
       "      <th>country</th>\n",
       "      <th>time</th>\n",
       "      <th>nr_users</th>\n",
       "    </tr>\n",
       "  </thead>\n",
       "  <tbody>\n",
       "    <tr>\n",
       "      <th>purchase_value</th>\n",
       "      <td>1.000000</td>\n",
       "      <td>0.001996</td>\n",
       "      <td>0.002370</td>\n",
       "      <td>0.001011</td>\n",
       "      <td>-0.003671</td>\n",
       "      <td>0.003441</td>\n",
       "      <td>0.003829</td>\n",
       "    </tr>\n",
       "    <tr>\n",
       "      <th>sex</th>\n",
       "      <td>0.001996</td>\n",
       "      <td>1.000000</td>\n",
       "      <td>0.004093</td>\n",
       "      <td>0.007639</td>\n",
       "      <td>-0.001842</td>\n",
       "      <td>-0.005212</td>\n",
       "      <td>0.006759</td>\n",
       "    </tr>\n",
       "    <tr>\n",
       "      <th>age</th>\n",
       "      <td>0.002370</td>\n",
       "      <td>0.004093</td>\n",
       "      <td>1.000000</td>\n",
       "      <td>0.006624</td>\n",
       "      <td>0.003522</td>\n",
       "      <td>-0.000575</td>\n",
       "      <td>0.012160</td>\n",
       "    </tr>\n",
       "    <tr>\n",
       "      <th>class</th>\n",
       "      <td>0.001011</td>\n",
       "      <td>0.007639</td>\n",
       "      <td>0.006624</td>\n",
       "      <td>1.000000</td>\n",
       "      <td>0.002223</td>\n",
       "      <td>-0.257888</td>\n",
       "      <td>0.670837</td>\n",
       "    </tr>\n",
       "    <tr>\n",
       "      <th>country</th>\n",
       "      <td>-0.003671</td>\n",
       "      <td>-0.001842</td>\n",
       "      <td>0.003522</td>\n",
       "      <td>0.002223</td>\n",
       "      <td>1.000000</td>\n",
       "      <td>-0.000135</td>\n",
       "      <td>0.001590</td>\n",
       "    </tr>\n",
       "    <tr>\n",
       "      <th>time</th>\n",
       "      <td>0.003441</td>\n",
       "      <td>-0.005212</td>\n",
       "      <td>-0.000575</td>\n",
       "      <td>-0.257888</td>\n",
       "      <td>-0.000135</td>\n",
       "      <td>1.000000</td>\n",
       "      <td>-0.331897</td>\n",
       "    </tr>\n",
       "    <tr>\n",
       "      <th>nr_users</th>\n",
       "      <td>0.003829</td>\n",
       "      <td>0.006759</td>\n",
       "      <td>0.012160</td>\n",
       "      <td>0.670837</td>\n",
       "      <td>0.001590</td>\n",
       "      <td>-0.331897</td>\n",
       "      <td>1.000000</td>\n",
       "    </tr>\n",
       "  </tbody>\n",
       "</table>\n",
       "</div>"
      ],
      "text/plain": [
       "                purchase_value       sex       age     class   country  \\\n",
       "purchase_value        1.000000  0.001996  0.002370  0.001011 -0.003671   \n",
       "sex                   0.001996  1.000000  0.004093  0.007639 -0.001842   \n",
       "age                   0.002370  0.004093  1.000000  0.006624  0.003522   \n",
       "class                 0.001011  0.007639  0.006624  1.000000  0.002223   \n",
       "country              -0.003671 -0.001842  0.003522  0.002223  1.000000   \n",
       "time                  0.003441 -0.005212 -0.000575 -0.257888 -0.000135   \n",
       "nr_users              0.003829  0.006759  0.012160  0.670837  0.001590   \n",
       "\n",
       "                    time  nr_users  \n",
       "purchase_value  0.003441  0.003829  \n",
       "sex            -0.005212  0.006759  \n",
       "age            -0.000575  0.012160  \n",
       "class          -0.257888  0.670837  \n",
       "country        -0.000135  0.001590  \n",
       "time            1.000000 -0.331897  \n",
       "nr_users       -0.331897  1.000000  "
      ]
     },
     "execution_count": 5,
     "metadata": {},
     "output_type": "execute_result"
    }
   ],
   "source": [
    "# check correlation among features\n",
    "df.corr()"
   ]
  },
  {
   "cell_type": "markdown",
   "metadata": {},
   "source": [
    "# 'time' and 'nr_users' look like good features to discrimnate fraud vs non-fraud"
   ]
  },
  {
   "cell_type": "code",
   "execution_count": 6,
   "metadata": {
    "collapsed": false
   },
   "outputs": [
    {
     "data": {
      "image/png": "[encoded data removed]",
      "text/plain": [
       "<matplotlib.figure.Figure at 0x7f96b9e5d290>"
      ]
     },
     "metadata": {},
     "output_type": "display_data"
    }
   ],
   "source": [
    "class0 = df.loc[df['class'] == 0]\n",
    "class1 = df.loc[df['class'] == 1]\n",
    "df_hist(class0, class1, 'nr_users')"
   ]
  },
  {
   "cell_type": "code",
   "execution_count": 7,
   "metadata": {
    "collapsed": false
   },
   "outputs": [
    {
     "data": {
      "image/png": "[encoded data removed]",
      "text/plain": [
       "<matplotlib.figure.Figure at 0x7f96ec29aa50>"
      ]
     },
     "metadata": {},
     "output_type": "display_data"
    }
   ],
   "source": [
    "df_hist(class0, class1, 'time')"
   ]
  },
  {
   "cell_type": "markdown",
   "metadata": {},
   "source": [
    "# Split training / test sets"
   ]
  },
  {
   "cell_type": "code",
   "execution_count": 34,
   "metadata": {
    "collapsed": false
   },
   "outputs": [
    {
     "name": "stdout",
     "output_type": "stream",
     "text": [
      "size of train0: 95872, test0: 41089, train1: 9905, test1: 4246\n",
      "\n"
     ]
    }
   ],
   "source": [
    "# split each class into train / test sets\n",
    "(train0, test0) = train_test_split(class0)\n",
    "(train1, test1) = train_test_split(class1)\n",
    "print \"size of train0: %s, test0: %s, train1: %s, test1: %s\\n\" % (len(train0), len(test0), len(train1), len(test1))"
   ]
  },
  {
   "cell_type": "markdown",
   "metadata": {},
   "source": [
    "# Naive Bayes classifier"
   ]
  },
  {
   "cell_type": "code",
   "execution_count": null,
   "metadata": {
    "collapsed": true
   },
   "outputs": [],
   "source": [
    "# fit kernel density models on training data for continuous features\n",
    "density_smoothing = 0.25\n",
    "absolute_tolerance = 1E-8 # leads to faster execution\n",
    "kde_time0 = KernelDensity(kernel='gaussian', bandwidth=density_smoothing, atol=absolute_tolerance).fit(train0['time'].values.reshape(-1, 1))\n",
    "kde_time1 = KernelDensity(kernel='gaussian', bandwidth=density_smoothing, atol=absolute_tolerance).fit(train1['time'].values.reshape(-1, 1))\n",
    "kde_nr_users0 = KernelDensity(kernel='gaussian', bandwidth=density_smoothing, atol=absolute_tolerance).fit(train0['nr_users'].values.reshape(-1, 1))\n",
    "kde_nr_users1 = KernelDensity(kernel='gaussian', bandwidth=density_smoothing, atol=absolute_tolerance).fit(train1['nr_users'].values.reshape(-1, 1))"
   ]
  },
  {
   "cell_type": "code",
   "execution_count": 37,
   "metadata": {
    "collapsed": false
   },
   "outputs": [],
   "source": [
    "# calculate marginal probabilities for continuous features\n",
    "test0.loc[:,'p_time0'] = np.exp(kde_time0.score_samples(test0['time'].values.reshape(-1, 1)))\n",
    "test1.loc[:,'p_time0'] = np.exp(kde_time0.score_samples(test1['time'].values.reshape(-1, 1)))\n",
    "test0.loc[:,'p_time1'] = np.exp(kde_time1.score_samples(test0['time'].values.reshape(-1, 1)))\n",
    "test1.loc[:,'p_time1'] = np.exp(kde_time1.score_samples(test1['time'].values.reshape(-1, 1)))\n",
    "test0.loc[:,'p_nr_users0'] = np.exp(kde_nr_users0.score_samples(test0['nr_users'].values.reshape(-1, 1)))\n",
    "test1.loc[:,'p_nr_users0'] = np.exp(kde_nr_users0.score_samples(test1['nr_users'].values.reshape(-1, 1)))\n",
    "test0.loc[:,'p_nr_users1'] = np.exp(kde_nr_users1.score_samples(test0['nr_users'].values.reshape(-1, 1)))\n",
    "test1.loc[:,'p_nr_users1'] = np.exp(kde_nr_users1.score_samples(test1['nr_users'].values.reshape(-1, 1)))"
   ]
  },
  {
   "cell_type": "code",
   "execution_count": 62,
   "metadata": {
    "collapsed": false
   },
   "outputs": [],
   "source": [
    "# use Bayes rule to calculate P(fraud)\n",
    "test0.loc[:, 'p_fraud'] = test0.p_nr_users1*test0.p_time1*p_fraud/(test0.p_nr_users0*test0.p_time0*(1 - p_fraud) + test0.p_nr_users1*test0.p_time1*p_fraud)\n",
    "test1.loc[:, 'p_fraud'] = test1.p_nr_users1*test1.p_time1*p_fraud/(test1.p_nr_users0*test1.p_time0*(1 - p_fraud) + test1.p_nr_users1*test1.p_time1*p_fraud)"
   ]
  },
  {
   "cell_type": "code",
   "execution_count": 72,
   "metadata": {
    "collapsed": false
   },
   "outputs": [
    {
     "data": {
      "image/png": "[encoded data removed]",
      "text/plain": [
       "<matplotlib.figure.Figure at 0x7f96b9be2890>"
      ]
     },
     "metadata": {},
     "output_type": "display_data"
    },
    {
     "name": "stdout",
     "output_type": "stream",
     "text": [
      "roc_auc_score = 0.816906\n"
     ]
    }
   ],
   "source": [
    "# Plot ROC curve\n",
    "y_true = np.r_[test0['class'], test1['class']]\n",
    "y_score = np.r_[test0['p_fraud'], test1['p_fraud']]\n",
    "fpr, tpr, thresholds = roc_curve(y_true, y_score)\n",
    "plt.plot(fpr, tpr)\n",
    "plt.title('ROC Curve for Naive Bayes classifier')\n",
    "plt.xlabel('FPR')\n",
    "plt.ylabel('TPR')\n",
    "plt.show()\n",
    "print \"roc_auc_score = %f\" % roc_auc_score(y_true, y_score)"
   ]
  }
 ],
 "metadata": {
  "anaconda-cloud": {},
  "kernelspec": {
   "display_name": "Python [conda root]",
   "language": "python",
   "name": "conda-root-py"
  },
  "language_info": {
   "codemirror_mode": {
    "name": "ipython",
    "version": 2
   },
   "file_extension": ".py",
   "mimetype": "text/x-python",
   "name": "python",
   "nbconvert_exporter": "python",
   "pygments_lexer": "ipython2",
   "version": "2.7.12"
  },
  "toc": {
   "colors": {
    "hover_highlight": "#DAA520",
    "running_highlight": "#FF0000",
    "selected_highlight": "#FFD700"
   },
   "moveMenuLeft": true,
   "nav_menu": {
    "height": "30px",
    "width": "252px"
   },
   "navigate_menu": true,
   "number_sections": true,
   "sideBar": true,
   "threshold": 4,
   "toc_cell": false,
   "toc_section_display": "block",
   "toc_window_display": false
  }
 },
 "nbformat": 4,
 "nbformat_minor": 1
}
